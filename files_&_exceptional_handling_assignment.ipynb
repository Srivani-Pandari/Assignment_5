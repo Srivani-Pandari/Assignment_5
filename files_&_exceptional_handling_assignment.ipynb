{
  "nbformat": 4,
  "nbformat_minor": 0,
  "metadata": {
    "colab": {
      "provenance": []
    },
    "kernelspec": {
      "name": "python3",
      "display_name": "Python 3"
    },
    "language_info": {
      "name": "python"
    }
  },
  "cells": [
    {
      "cell_type": "markdown",
      "source": [
        "Theoretical Questions"
      ],
      "metadata": {
        "id": "L6RuzQ41UzQV"
      }
    },
    {
      "cell_type": "markdown",
      "source": [
        "1.What is the difference between interpreted and compiled languages0"
      ],
      "metadata": {
        "id": "xCNDqEOYgRCj"
      }
    },
    {
      "cell_type": "markdown",
      "source": [
        "Interpreted languages execute code line-by-line (e.g., Python), whereas compiled languages translate code into machine language before execution (e.g., C)."
      ],
      "metadata": {
        "id": "5srYnol-U1wt"
      }
    },
    {
      "cell_type": "markdown",
      "source": [
        "2. What is exception handling in Python0"
      ],
      "metadata": {
        "id": "v2Hp-u3GU8DA"
      }
    },
    {
      "cell_type": "markdown",
      "source": [
        "It allows you to handle runtime errors using try, except, else, and finally blocks."
      ],
      "metadata": {
        "id": "xB0xR5xhVANh"
      }
    },
    {
      "cell_type": "markdown",
      "source": [
        "3. What is the purpose of the finally block in exception handling0"
      ],
      "metadata": {
        "id": "fkCYqnmtVDxk"
      }
    },
    {
      "cell_type": "markdown",
      "source": [
        "It is always executed after try and except, used for cleanup actions like closing files or releasing resources."
      ],
      "metadata": {
        "id": "hGNZuibmVMZQ"
      }
    },
    {
      "cell_type": "markdown",
      "source": [
        "4. What is logging in Python0"
      ],
      "metadata": {
        "id": "a3tM79UaVPjQ"
      }
    },
    {
      "cell_type": "markdown",
      "source": [
        "A module to track events during a program’s execution, useful for debugging and monitoring."
      ],
      "metadata": {
        "id": "n-KHTyJpVVsg"
      }
    },
    {
      "cell_type": "markdown",
      "source": [
        "5. What is the significance of the __del__ method in Python0"
      ],
      "metadata": {
        "id": "FX4csN6lVZT8"
      }
    },
    {
      "cell_type": "markdown",
      "source": [
        "Destructor method called when an object is about to be destroyed.\n",
        "\n"
      ],
      "metadata": {
        "id": "-Qe1DkLVVb6M"
      }
    },
    {
      "cell_type": "markdown",
      "source": [
        "6. What is the difference between import and from ... import in Python0"
      ],
      "metadata": {
        "id": "mb1lcn3DVf5m"
      }
    },
    {
      "cell_type": "markdown",
      "source": [
        "import imports the entire module; from imports specific parts of the module."
      ],
      "metadata": {
        "id": "vR59vSzeVx0e"
      }
    },
    {
      "cell_type": "markdown",
      "source": [
        "7.How can you handle multiple exceptions in Python0"
      ],
      "metadata": {
        "id": "gRcQv63xV3oo"
      }
    },
    {
      "cell_type": "markdown",
      "source": [
        "Use multiple except blocks or a tuple of exceptions."
      ],
      "metadata": {
        "id": "ZN91rWFoV9RP"
      }
    },
    {
      "cell_type": "markdown",
      "source": [
        "8.What is the purpose of the with statement when handling files in Python0"
      ],
      "metadata": {
        "id": "P3qhOeDXWBbE"
      }
    },
    {
      "cell_type": "markdown",
      "source": [
        "Ensures proper acquisition and release of resources like file streams."
      ],
      "metadata": {
        "id": "gc7I51wOWG9L"
      }
    },
    {
      "cell_type": "markdown",
      "source": [
        "9.What is the difference between multithreading and multiprocessing0"
      ],
      "metadata": {
        "id": "Ha1LcyD2WLea"
      }
    },
    {
      "cell_type": "markdown",
      "source": [
        "Multithreading uses threads (shared memory), multiprocessing uses processes (separate memory space)."
      ],
      "metadata": {
        "id": "HAzD6f67WRWB"
      }
    },
    {
      "cell_type": "markdown",
      "source": [
        "10.What are the advantages of using logging in a program"
      ],
      "metadata": {
        "id": "BSKpeTRmWSvh"
      }
    },
    {
      "cell_type": "markdown",
      "source": [
        "Helps track issues, audit operations, and debug efficiently."
      ],
      "metadata": {
        "id": "XuiJolzEWbPL"
      }
    },
    {
      "cell_type": "markdown",
      "source": [
        "11.What is memory management in Python0"
      ],
      "metadata": {
        "id": "C_qneCIYWiNz"
      }
    },
    {
      "cell_type": "markdown",
      "source": [
        "Done via reference counting and garbage collection."
      ],
      "metadata": {
        "id": "qlsP5UmqWnq9"
      }
    },
    {
      "cell_type": "markdown",
      "source": [
        "12. What are the basic steps involved in exception handling in Python0"
      ],
      "metadata": {
        "id": "TOZFPySPWrKE"
      }
    },
    {
      "cell_type": "markdown",
      "source": [
        " Identify risky code, use try, handle with except, optionally use else and finally."
      ],
      "metadata": {
        "id": "d54a3hssWukR"
      }
    },
    {
      "cell_type": "markdown",
      "source": [
        "13.Why is memory management important in Python0"
      ],
      "metadata": {
        "id": "oNAbXYKQW0nh"
      }
    },
    {
      "cell_type": "markdown",
      "source": [
        " Prevents memory leaks and ensures efficient resource use."
      ],
      "metadata": {
        "id": "eKyxR8GJW5cZ"
      }
    },
    {
      "cell_type": "markdown",
      "source": [
        "14. What is the role of try and except in exception handling0"
      ],
      "metadata": {
        "id": "xIqVoERFXMXB"
      }
    },
    {
      "cell_type": "markdown",
      "source": [
        "try block holds code that might fail, except handles exceptions."
      ],
      "metadata": {
        "id": "Ky1KKGVJXVH6"
      }
    },
    {
      "cell_type": "markdown",
      "source": [
        "15. How does Python's garbage collection system work0"
      ],
      "metadata": {
        "id": "a77dFgqvXaQS"
      }
    },
    {
      "cell_type": "markdown",
      "source": [
        "Automatically deletes unused objects using reference counting and generational GC."
      ],
      "metadata": {
        "id": "pZmx97evXdNT"
      }
    },
    {
      "cell_type": "markdown",
      "source": [
        "16. What is the purpose of the else block in exception handling."
      ],
      "metadata": {
        "id": "78c8-hYEXgdo"
      }
    },
    {
      "cell_type": "markdown",
      "source": [
        "Executes if no exception occurs in try block."
      ],
      "metadata": {
        "id": "7F2e36ssXqF1"
      }
    },
    {
      "cell_type": "markdown",
      "source": [
        "17. What are the common logging levels in Python"
      ],
      "metadata": {
        "id": "mp8cf9dYXwxw"
      }
    },
    {
      "cell_type": "markdown",
      "source": [
        "DEBUG, INFO, WARNING, ERROR, CRITICAL"
      ],
      "metadata": {
        "id": "e3heeBpdXzqH"
      }
    },
    {
      "cell_type": "markdown",
      "source": [
        "18. What is the difference between os.fork() and multiprocessing in Python0"
      ],
      "metadata": {
        "id": "lcaTxk9qX_D-"
      }
    },
    {
      "cell_type": "markdown",
      "source": [
        "os.fork() creates a child process in Unix, multiprocessing is platform-independent.\n",
        "\n"
      ],
      "metadata": {
        "id": "_D41cNLVYEfA"
      }
    },
    {
      "cell_type": "markdown",
      "source": [
        "19. What is the importance of closing a file in Python0"
      ],
      "metadata": {
        "id": "HbsF2KEWYIFK"
      }
    },
    {
      "cell_type": "markdown",
      "source": [
        "Prevents data loss and resource leakage."
      ],
      "metadata": {
        "id": "hFTMte2TYKtI"
      }
    },
    {
      "cell_type": "markdown",
      "source": [
        "20. What is the difference between file.read() and file.readline() in Python"
      ],
      "metadata": {
        "id": "gI3A1rslYQxn"
      }
    },
    {
      "cell_type": "markdown",
      "source": [
        "read() reads the whole file; readline() reads line by line."
      ],
      "metadata": {
        "id": "hhBTPayhYZhr"
      }
    },
    {
      "cell_type": "markdown",
      "source": [
        "21. What is the logging module in Python used for"
      ],
      "metadata": {
        "id": "MUCXNLUZYnig"
      }
    },
    {
      "cell_type": "markdown",
      "source": [
        "To record messages during program execution."
      ],
      "metadata": {
        "id": "Bp6IxQdRY8HX"
      }
    },
    {
      "cell_type": "markdown",
      "source": [
        "22. What is the os module in Python used for in file handling0"
      ],
      "metadata": {
        "id": "jXkIM01QZNbI"
      }
    },
    {
      "cell_type": "markdown",
      "source": [
        "For tasks like path handling, checking file existence, and file operations."
      ],
      "metadata": {
        "id": "_SxW6g6aZTrY"
      }
    },
    {
      "cell_type": "markdown",
      "source": [
        "23. What are the challenges associated with memory management in Python0"
      ],
      "metadata": {
        "id": "690BnouYZeXl"
      }
    },
    {
      "cell_type": "markdown",
      "source": [
        "Memory leaks, circular references, and improper resource cleanup."
      ],
      "metadata": {
        "id": "pQqJzxQxZjik"
      }
    },
    {
      "cell_type": "markdown",
      "source": [
        "24. How do you raise an exception manually in Python0"
      ],
      "metadata": {
        "id": "hmbN_KyfZtLF"
      }
    },
    {
      "cell_type": "markdown",
      "source": [
        "Use raise Exception(\"message\")."
      ],
      "metadata": {
        "id": "OqUuj67iZzj2"
      }
    },
    {
      "cell_type": "markdown",
      "source": [
        "25. Why is it important to use multithreading in certain applications?"
      ],
      "metadata": {
        "id": "o7jKvKKqZ7jT"
      }
    },
    {
      "cell_type": "markdown",
      "source": [
        "Useful for I/O-bound tasks to improve performance."
      ],
      "metadata": {
        "id": "xN_MGljUaE5L"
      }
    },
    {
      "cell_type": "markdown",
      "source": [
        "Practical Questions"
      ],
      "metadata": {
        "id": "DcnREe3faF9I"
      }
    },
    {
      "cell_type": "markdown",
      "source": [
        "1. How can you open a file for writing in Python and write a string to it?"
      ],
      "metadata": {
        "id": "QI8aWopyaI_Y"
      }
    },
    {
      "cell_type": "code",
      "source": [
        "with open(\"output.txt\", \"w\") as f:\n",
        "    f.write(\"Hello, world!\")"
      ],
      "metadata": {
        "id": "ZMSiB6RzaXeV"
      },
      "execution_count": null,
      "outputs": []
    },
    {
      "cell_type": "markdown",
      "source": [
        "2.Write a Python program to read the contents of a file and print each lineF"
      ],
      "metadata": {
        "id": "EnXlxzEiaYRm"
      }
    },
    {
      "cell_type": "code",
      "source": [
        "with open(\"file.txt\", \"r\") as f:\n",
        "    for line in f:\n",
        "        print(line)"
      ],
      "metadata": {
        "id": "CyzJHHpCacau"
      },
      "execution_count": null,
      "outputs": []
    },
    {
      "cell_type": "markdown",
      "source": [
        "3. How would you handle a case where the file doesn't exist while trying to open it for reading?"
      ],
      "metadata": {
        "id": "HgFNZWsragou"
      }
    },
    {
      "cell_type": "code",
      "source": [
        "try:\n",
        "    with open(\"missing.txt\", \"r\") as f:\n",
        "        data = f.read()\n",
        "except FileNotFoundError:\n",
        "    print(\"File not found.\")"
      ],
      "metadata": {
        "id": "t__roc3Lalh7"
      },
      "execution_count": null,
      "outputs": []
    },
    {
      "cell_type": "markdown",
      "source": [
        "4.F Write a Python script that reads from one file and writes its content to another fileF"
      ],
      "metadata": {
        "id": "v2dZNQ0JaoIB"
      }
    },
    {
      "cell_type": "code",
      "source": [
        "with open(\"source.txt\", \"r\") as src, open(\"dest.txt\", \"w\") as dst:\n",
        "    dst.write(src.read())"
      ],
      "metadata": {
        "id": "uHODv4v0asHg"
      },
      "execution_count": null,
      "outputs": []
    },
    {
      "cell_type": "markdown",
      "source": [
        "5.How would you catch and handle division by zero error in Python\u001f"
      ],
      "metadata": {
        "id": "ptAbKXs9a3Hz"
      }
    },
    {
      "cell_type": "code",
      "source": [
        "try:\n",
        "    result = 10 / 0\n",
        "except ZeroDivisionError:\n",
        "    print(\"Cannot divide by zero.\")"
      ],
      "metadata": {
        "id": "R06UFbgma6xw"
      },
      "execution_count": null,
      "outputs": []
    },
    {
      "cell_type": "markdown",
      "source": [
        "6.Write a Python program that logs an error message to a log file when a division by zero exception occurs"
      ],
      "metadata": {
        "id": "6-1Q6WM5bAQd"
      }
    },
    {
      "cell_type": "code",
      "source": [
        "import logging\n",
        "logging.basicConfig(filename='app.log', level=logging.ERROR)\n",
        "try:\n",
        "    1 / 0\n",
        "except ZeroDivisionError as e:\n",
        "    logging.error(\"Division by zero error occurred\")"
      ],
      "metadata": {
        "id": "LAjMA2w6bSsb"
      },
      "execution_count": null,
      "outputs": []
    },
    {
      "cell_type": "markdown",
      "source": [
        "7.How do you log information at different levels (INFO, ERROR, WARNING) in Python using the logging module"
      ],
      "metadata": {
        "id": "pGkuaRNfbT18"
      }
    },
    {
      "cell_type": "code",
      "source": [
        "logging.info(\"This is an info message\")\n",
        "logging.warning(\"This is a warning\")\n",
        "logging.error(\"This is an error\")"
      ],
      "metadata": {
        "id": "R5N-qzapbbET"
      },
      "execution_count": null,
      "outputs": []
    },
    {
      "cell_type": "markdown",
      "source": [
        "8.Write a program to handle a file opening error using exception handling"
      ],
      "metadata": {
        "id": "U1d6tuKRbeAW"
      }
    },
    {
      "cell_type": "code",
      "source": [
        "try:\n",
        "    open(\"nonexistent.txt\")\n",
        "except IOError as e:\n",
        "    print(\"File open error:\", e)"
      ],
      "metadata": {
        "id": "2JDuB2OfblLU"
      },
      "execution_count": null,
      "outputs": []
    },
    {
      "cell_type": "markdown",
      "source": [
        "9. How can you read a file line by line and store its content in a list in Python"
      ],
      "metadata": {
        "id": "1qDw1UsNbmGf"
      }
    },
    {
      "cell_type": "code",
      "source": [
        "lines = []\n",
        "with open(\"file.txt\") as f:\n",
        "    lines = f.readlines()"
      ],
      "metadata": {
        "id": "twcX7hc3bq7g"
      },
      "execution_count": null,
      "outputs": []
    },
    {
      "cell_type": "markdown",
      "source": [
        "10. How can you append data to an existing file in Python"
      ],
      "metadata": {
        "id": "zUYGDSyGbzqH"
      }
    },
    {
      "cell_type": "code",
      "source": [
        "with open(\"file.txt\", \"a\") as f:\n",
        "    f.write(\"New data\\n\")"
      ],
      "metadata": {
        "id": "7zRDjZEefN5g"
      },
      "execution_count": null,
      "outputs": []
    },
    {
      "cell_type": "markdown",
      "source": [
        " 11.Write a Python program that uses a try-except block to handle an error when attempting to access a\n",
        "dictionary key that doesn't existF"
      ],
      "metadata": {
        "id": "izBNsIhLb7Dv"
      }
    },
    {
      "cell_type": "code",
      "source": [
        "try:\n",
        "    d = {\"a\": 1}\n",
        "    print(d[\"b\"])\n",
        "except KeyError:\n",
        "    print(\"Key does not exist\")\n"
      ],
      "metadata": {
        "id": "l9stCsFxfTlC"
      },
      "execution_count": null,
      "outputs": []
    },
    {
      "cell_type": "markdown",
      "source": [
        "12. Write a program that demonstrates using multiple except blocks to handle different types of exceptions"
      ],
      "metadata": {
        "id": "PFJEGV2rb_L_"
      }
    },
    {
      "cell_type": "code",
      "source": [
        "try:\n",
        "    x = int(\"abc\")\n",
        "except ValueError:\n",
        "    print(\"ValueError occurred\")\n",
        "except TypeError:\n",
        "    print(\"TypeError occurred\")"
      ],
      "metadata": {
        "id": "96JLLjqtfVeE"
      },
      "execution_count": null,
      "outputs": []
    },
    {
      "cell_type": "markdown",
      "source": [
        "13. How would you check if a file exists before attempting to read it in Python"
      ],
      "metadata": {
        "id": "UVcSbk73cH47"
      }
    },
    {
      "cell_type": "code",
      "source": [
        "import os\n",
        "if os.path.exists(\"file.txt\"):\n",
        "    print(\"File exists\")"
      ],
      "metadata": {
        "id": "U_mJ_tWXfZ4c"
      },
      "execution_count": null,
      "outputs": []
    },
    {
      "cell_type": "markdown",
      "source": [
        "14. Write a program that uses the logging module to log both informational and error messages"
      ],
      "metadata": {
        "id": "fbZmagFUcNJ4"
      }
    },
    {
      "cell_type": "markdown",
      "source": [
        "logging.info(\"This is info\")\n",
        "logging.error(\"This is error\")"
      ],
      "metadata": {
        "id": "y1YtPYgifei0"
      }
    },
    {
      "cell_type": "markdown",
      "source": [
        "15. Write a program that uses the logging module to log both informational and error messagesF"
      ],
      "metadata": {
        "id": "JrTGs8wWeltu"
      }
    },
    {
      "cell_type": "code",
      "source": [
        "with open(\"file.txt\") as f:\n",
        "    content = f.read()\n",
        "    if content == \"\":\n",
        "        print(\"File is empty\")"
      ],
      "metadata": {
        "id": "vpQwkmoQfizD"
      },
      "execution_count": null,
      "outputs": []
    },
    {
      "cell_type": "markdown",
      "source": [
        "16. Demonstrate how to use memory profiling to check the memory usage of a small programF\n"
      ],
      "metadata": {
        "id": "GYqq26K7enAO"
      }
    },
    {
      "cell_type": "code",
      "source": [
        "import tracemalloc\n",
        "tracemalloc.start()\n",
        "a = [i for i in range(100000)]\n",
        "print(tracemalloc.get_traced_memory())\n",
        "tracemalloc.stop()"
      ],
      "metadata": {
        "id": "Yn6g8_ztfmCJ"
      },
      "execution_count": null,
      "outputs": []
    },
    {
      "cell_type": "markdown",
      "source": [
        "17.Write a Python program to create and write a list of numbers to a file, one number per lineF"
      ],
      "metadata": {
        "id": "V6MlxYj1eq2G"
      }
    },
    {
      "cell_type": "code",
      "source": [
        "with open(\"numbers.txt\", \"w\") as f:\n",
        "    for i in range(1, 11):\n",
        "        f.write(str(i) + \"\\n\")"
      ],
      "metadata": {
        "id": "nq2JLSP4frv6"
      },
      "execution_count": null,
      "outputs": []
    },
    {
      "cell_type": "markdown",
      "source": [
        "18.How would you implement a basic logging setup that logs to a file with rotation after 1MB"
      ],
      "metadata": {
        "id": "sGQqnTuqexCH"
      }
    },
    {
      "cell_type": "code",
      "source": [
        "from logging.handlers import RotatingFileHandler\n",
        "handler = RotatingFileHandler(\"log.txt\", maxBytes=1024*1024, backupCount=1)"
      ],
      "metadata": {
        "id": "OiN4LCeXfvHA"
      },
      "execution_count": null,
      "outputs": []
    },
    {
      "cell_type": "markdown",
      "source": [
        "19. Write a program that handles both IndexError and KeyError using a try-except blockF"
      ],
      "metadata": {
        "id": "fiHO9btsezA9"
      }
    },
    {
      "cell_type": "code",
      "source": [
        "try:\n",
        "    lst = [1]\n",
        "    print(lst[2])\n",
        "except IndexError:\n",
        "    print(\"Index error\")"
      ],
      "metadata": {
        "id": "kjyZpPJafyl-"
      },
      "execution_count": null,
      "outputs": []
    },
    {
      "cell_type": "markdown",
      "source": [
        "20. How would you open a file and read its contents using a context manager in Python"
      ],
      "metadata": {
        "id": "zn-FWSX0e2wv"
      }
    },
    {
      "cell_type": "code",
      "source": [
        "with open(\"file.txt\") as f:\n",
        "    data = f.read()"
      ],
      "metadata": {
        "id": "OA1YkqmQf3Cx"
      },
      "execution_count": null,
      "outputs": []
    },
    {
      "cell_type": "markdown",
      "source": [
        "21.Write a Python program that reads a file and prints the number of occurrences of a specific word"
      ],
      "metadata": {
        "id": "BTMAbfkce_EL"
      }
    },
    {
      "cell_type": "code",
      "source": [
        "word = \"python\"\n",
        "with open(\"file.txt\") as f:\n",
        "    print(f.read().count(word))"
      ],
      "metadata": {
        "id": "kewqA4raf75Z"
      },
      "execution_count": null,
      "outputs": []
    },
    {
      "cell_type": "markdown",
      "source": [
        "22.How can you check if a file is empty before attempting to read its contents"
      ],
      "metadata": {
        "id": "3X6slChVfDvN"
      }
    },
    {
      "cell_type": "code",
      "source": [
        "import os\n",
        "if os.path.exists(\"file.txt\") and os.path.getsize(\"file.txt\") == 0:\n",
        "    print(\"File is empty\")"
      ],
      "metadata": {
        "id": "TIW36twigAoS"
      },
      "execution_count": null,
      "outputs": []
    },
    {
      "cell_type": "markdown",
      "source": [
        "23.Write a Python program that writes to a log file when an error occurs during file handling."
      ],
      "metadata": {
        "id": "Zyju1zgqfHod"
      }
    },
    {
      "cell_type": "code",
      "source": [
        "try:\n",
        "    with open(\"file.txt\") as f:\n",
        "        print(f.read())\n",
        "except Exception as e:\n",
        "    logging.error(\"Error reading file: %s\", e)"
      ],
      "metadata": {
        "id": "Oe7_IBYDgEyp"
      },
      "execution_count": null,
      "outputs": []
    }
  ]
}